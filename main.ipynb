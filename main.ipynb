{
 "cells": [
  {
   "cell_type": "code",
   "execution_count": 18,
   "metadata": {},
   "outputs": [],
   "source": [
    "import numpy as np\n",
    "import pandas as pd\n",
    "from sklearn.cluster import KMeans\n",
    "from sklearn.model_selection import train_test_split\n",
    "from sklearn.metrics import silhouette_score\n",
    "\n",
    "# For Visualisation\n",
    "import matplotlib.pyplot as plt\n",
    "import seaborn as sns\n",
    "%matplotlib inline\n",
    "\n",
    "# To Scale our data\n",
    "from sklearn.preprocessing import scale"
   ]
  },
  {
   "cell_type": "code",
   "execution_count": 2,
   "metadata": {},
   "outputs": [],
   "source": [
    "DATASET_PATH = \"data/alpha.csv\"\n",
    "DATA_FIELDS = [\"phoneOrientation\",\"startX\",\"startY\",\"endX\",\"endY\",\"minX\",\"maxX\",\"minY\",\"maxY\",\"midX\",\"meanX\",\"stdX\",\"midY\",\"meanY\",\"stdY\",\"duration\",\"interSwipeInterval\",\"meanDistance\",\"maxDistance\",\"midDistance\",\"stdDistance\",\"trajectoryLength\",\"directLength\",\"maxDeviationDistance\",\"directFullTrajectoryRatio\",\"maxPressure\",\"meanPressure\",\"medianPressure\",\"initPressure\",\"midPressure\",\"meanArea\",\"medianArea\",\"midArea\",\"meanVelocity\",\"medianVelocity\",\"eightyPercVelocity\",\"twentyPercVelocity\",\"medianLastThreePointsVelocity\",\"maxVelocity\",\"midVelocity\",\"stdVelocity\",\"meanAcceleration\",\"medianAcceleration\",\"eightyPercAcceleration\",\"twentyPercAcceleration\",\"medianFirstFiveAcceleration\",\"maxAcceleration\",\"midAcceleration\",\"stdAcceleration\"]\n",
    "LABEL_FIELDS = \"userId\"\n",
    "FIELDS = [LABEL_FIELDS] + DATA_FIELDS"
   ]
  },
  {
   "cell_type": "code",
   "execution_count": 81,
   "metadata": {},
   "outputs": [
    {
     "data": {
      "text/html": [
       "<div>\n",
       "<style scoped>\n",
       "    .dataframe tbody tr th:only-of-type {\n",
       "        vertical-align: middle;\n",
       "    }\n",
       "\n",
       "    .dataframe tbody tr th {\n",
       "        vertical-align: top;\n",
       "    }\n",
       "\n",
       "    .dataframe thead th {\n",
       "        text-align: right;\n",
       "    }\n",
       "</style>\n",
       "<table border=\"1\" class=\"dataframe\">\n",
       "  <thead>\n",
       "    <tr style=\"text-align: right;\">\n",
       "      <th></th>\n",
       "      <th>userId</th>\n",
       "      <th>phoneOrientation</th>\n",
       "      <th>startX</th>\n",
       "      <th>startY</th>\n",
       "      <th>endX</th>\n",
       "      <th>endY</th>\n",
       "      <th>minX</th>\n",
       "      <th>maxX</th>\n",
       "      <th>minY</th>\n",
       "      <th>maxY</th>\n",
       "      <th>...</th>\n",
       "      <th>midVelocity</th>\n",
       "      <th>stdVelocity</th>\n",
       "      <th>meanAcceleration</th>\n",
       "      <th>medianAcceleration</th>\n",
       "      <th>eightyPercAcceleration</th>\n",
       "      <th>twentyPercAcceleration</th>\n",
       "      <th>medianFirstFiveAcceleration</th>\n",
       "      <th>maxAcceleration</th>\n",
       "      <th>midAcceleration</th>\n",
       "      <th>stdAcceleration</th>\n",
       "    </tr>\n",
       "  </thead>\n",
       "  <tbody>\n",
       "    <tr>\n",
       "      <th>3180</th>\n",
       "      <td>1</td>\n",
       "      <td>1</td>\n",
       "      <td>253.0</td>\n",
       "      <td>296.0</td>\n",
       "      <td>81.0</td>\n",
       "      <td>360.0</td>\n",
       "      <td>81.0</td>\n",
       "      <td>253.0</td>\n",
       "      <td>296.0</td>\n",
       "      <td>360.0</td>\n",
       "      <td>...</td>\n",
       "      <td>8309.996743</td>\n",
       "      <td>5754.511752</td>\n",
       "      <td>1.291418e+06</td>\n",
       "      <td>104856.791259</td>\n",
       "      <td>6.879422e+06</td>\n",
       "      <td>62113.105273</td>\n",
       "      <td>62113.105273</td>\n",
       "      <td>6.879422e+06</td>\n",
       "      <td>3.447600e+06</td>\n",
       "      <td>2.506678e+06</td>\n",
       "    </tr>\n",
       "    <tr>\n",
       "      <th>3181</th>\n",
       "      <td>1</td>\n",
       "      <td>1</td>\n",
       "      <td>121.0</td>\n",
       "      <td>291.0</td>\n",
       "      <td>290.0</td>\n",
       "      <td>258.0</td>\n",
       "      <td>121.0</td>\n",
       "      <td>290.0</td>\n",
       "      <td>258.0</td>\n",
       "      <td>291.0</td>\n",
       "      <td>...</td>\n",
       "      <td>1354.276928</td>\n",
       "      <td>1056.509599</td>\n",
       "      <td>4.177340e+04</td>\n",
       "      <td>29298.865613</td>\n",
       "      <td>7.220960e+04</td>\n",
       "      <td>17574.472308</td>\n",
       "      <td>29298.865613</td>\n",
       "      <td>1.101337e+05</td>\n",
       "      <td>5.943428e+04</td>\n",
       "      <td>3.524845e+04</td>\n",
       "    </tr>\n",
       "    <tr>\n",
       "      <th>3182</th>\n",
       "      <td>1</td>\n",
       "      <td>1</td>\n",
       "      <td>277.0</td>\n",
       "      <td>263.0</td>\n",
       "      <td>60.0</td>\n",
       "      <td>352.0</td>\n",
       "      <td>60.0</td>\n",
       "      <td>277.0</td>\n",
       "      <td>263.0</td>\n",
       "      <td>352.0</td>\n",
       "      <td>...</td>\n",
       "      <td>1281.114019</td>\n",
       "      <td>1008.257107</td>\n",
       "      <td>3.294554e+05</td>\n",
       "      <td>69032.763906</td>\n",
       "      <td>1.176540e+06</td>\n",
       "      <td>38530.236978</td>\n",
       "      <td>69032.763906</td>\n",
       "      <td>1.176540e+06</td>\n",
       "      <td>5.898781e+05</td>\n",
       "      <td>4.902769e+05</td>\n",
       "    </tr>\n",
       "    <tr>\n",
       "      <th>3183</th>\n",
       "      <td>1</td>\n",
       "      <td>1</td>\n",
       "      <td>223.0</td>\n",
       "      <td>307.0</td>\n",
       "      <td>55.0</td>\n",
       "      <td>406.0</td>\n",
       "      <td>55.0</td>\n",
       "      <td>223.0</td>\n",
       "      <td>307.0</td>\n",
       "      <td>406.0</td>\n",
       "      <td>...</td>\n",
       "      <td>1857.134967</td>\n",
       "      <td>1410.519720</td>\n",
       "      <td>1.104376e+05</td>\n",
       "      <td>82850.819472</td>\n",
       "      <td>2.476202e+05</td>\n",
       "      <td>29478.531267</td>\n",
       "      <td>82850.819472</td>\n",
       "      <td>2.476202e+05</td>\n",
       "      <td>1.380244e+05</td>\n",
       "      <td>9.050388e+04</td>\n",
       "    </tr>\n",
       "    <tr>\n",
       "      <th>3184</th>\n",
       "      <td>1</td>\n",
       "      <td>1</td>\n",
       "      <td>125.0</td>\n",
       "      <td>302.0</td>\n",
       "      <td>319.0</td>\n",
       "      <td>278.0</td>\n",
       "      <td>125.0</td>\n",
       "      <td>319.0</td>\n",
       "      <td>276.0</td>\n",
       "      <td>302.0</td>\n",
       "      <td>...</td>\n",
       "      <td>2537.987923</td>\n",
       "      <td>1765.200835</td>\n",
       "      <td>1.005064e+05</td>\n",
       "      <td>85537.760691</td>\n",
       "      <td>1.485998e+05</td>\n",
       "      <td>59897.405336</td>\n",
       "      <td>85537.760691</td>\n",
       "      <td>1.812004e+05</td>\n",
       "      <td>1.097437e+05</td>\n",
       "      <td>4.734516e+04</td>\n",
       "    </tr>\n",
       "  </tbody>\n",
       "</table>\n",
       "<p>5 rows × 50 columns</p>\n",
       "</div>"
      ],
      "text/plain": [
       "      userId  phoneOrientation  startX  startY   endX   endY   minX   maxX  \\\n",
       "3180       1                 1   253.0   296.0   81.0  360.0   81.0  253.0   \n",
       "3181       1                 1   121.0   291.0  290.0  258.0  121.0  290.0   \n",
       "3182       1                 1   277.0   263.0   60.0  352.0   60.0  277.0   \n",
       "3183       1                 1   223.0   307.0   55.0  406.0   55.0  223.0   \n",
       "3184       1                 1   125.0   302.0  319.0  278.0  125.0  319.0   \n",
       "\n",
       "       minY   maxY  ...  midVelocity  stdVelocity  meanAcceleration  \\\n",
       "3180  296.0  360.0  ...  8309.996743  5754.511752      1.291418e+06   \n",
       "3181  258.0  291.0  ...  1354.276928  1056.509599      4.177340e+04   \n",
       "3182  263.0  352.0  ...  1281.114019  1008.257107      3.294554e+05   \n",
       "3183  307.0  406.0  ...  1857.134967  1410.519720      1.104376e+05   \n",
       "3184  276.0  302.0  ...  2537.987923  1765.200835      1.005064e+05   \n",
       "\n",
       "      medianAcceleration  eightyPercAcceleration  twentyPercAcceleration  \\\n",
       "3180       104856.791259            6.879422e+06            62113.105273   \n",
       "3181        29298.865613            7.220960e+04            17574.472308   \n",
       "3182        69032.763906            1.176540e+06            38530.236978   \n",
       "3183        82850.819472            2.476202e+05            29478.531267   \n",
       "3184        85537.760691            1.485998e+05            59897.405336   \n",
       "\n",
       "      medianFirstFiveAcceleration  maxAcceleration  midAcceleration  \\\n",
       "3180                 62113.105273     6.879422e+06     3.447600e+06   \n",
       "3181                 29298.865613     1.101337e+05     5.943428e+04   \n",
       "3182                 69032.763906     1.176540e+06     5.898781e+05   \n",
       "3183                 82850.819472     2.476202e+05     1.380244e+05   \n",
       "3184                 85537.760691     1.812004e+05     1.097437e+05   \n",
       "\n",
       "      stdAcceleration  \n",
       "3180     2.506678e+06  \n",
       "3181     3.524845e+04  \n",
       "3182     4.902769e+05  \n",
       "3183     9.050388e+04  \n",
       "3184     4.734516e+04  \n",
       "\n",
       "[5 rows x 50 columns]"
      ]
     },
     "execution_count": 81,
     "metadata": {},
     "output_type": "execute_result"
    }
   ],
   "source": [
    "df = pd.read_csv(DATASET_PATH, usecols=FIELDS)\n",
    "df[LABEL_FIELDS] = df[LABEL_FIELDS].apply(lambda x: int(x[1:]))\n",
    "df = df[df.userId.map(lambda x: x in [1,12,25,31])]\n",
    "df.head()"
   ]
  },
  {
   "cell_type": "code",
   "execution_count": 79,
   "metadata": {},
   "outputs": [
    {
     "name": "stdout",
     "output_type": "stream",
     "text": [
      "<class 'pandas.core.frame.DataFrame'>\n",
      "Int64Index: 2685 entries, 3180 to 17440\n",
      "Data columns (total 50 columns):\n",
      "userId                           2685 non-null int64\n",
      "phoneOrientation                 2685 non-null int64\n",
      "startX                           2685 non-null float64\n",
      "startY                           2685 non-null float64\n",
      "endX                             2685 non-null float64\n",
      "endY                             2685 non-null float64\n",
      "minX                             2685 non-null float64\n",
      "maxX                             2685 non-null float64\n",
      "minY                             2685 non-null float64\n",
      "maxY                             2685 non-null float64\n",
      "midX                             2685 non-null float64\n",
      "meanX                            2685 non-null float64\n",
      "stdX                             2685 non-null float64\n",
      "midY                             2685 non-null float64\n",
      "meanY                            2685 non-null float64\n",
      "stdY                             2685 non-null float64\n",
      "duration                         2685 non-null float64\n",
      "interSwipeInterval               2685 non-null float64\n",
      "meanDistance                     2685 non-null float64\n",
      "maxDistance                      2685 non-null float64\n",
      "midDistance                      2685 non-null float64\n",
      "stdDistance                      2685 non-null float64\n",
      "trajectoryLength                 2685 non-null float64\n",
      "directLength                     2685 non-null float64\n",
      "maxDeviationDistance             2685 non-null float64\n",
      "directFullTrajectoryRatio        2685 non-null float64\n",
      "maxPressure                      2685 non-null float64\n",
      "meanPressure                     2685 non-null float64\n",
      "medianPressure                   2685 non-null float64\n",
      "initPressure                     2685 non-null float64\n",
      "midPressure                      2685 non-null float64\n",
      "meanArea                         2685 non-null float64\n",
      "medianArea                       2685 non-null float64\n",
      "midArea                          2685 non-null float64\n",
      "meanVelocity                     2685 non-null float64\n",
      "medianVelocity                   2685 non-null float64\n",
      "eightyPercVelocity               2685 non-null float64\n",
      "twentyPercVelocity               2685 non-null float64\n",
      "medianLastThreePointsVelocity    2685 non-null float64\n",
      "maxVelocity                      2685 non-null float64\n",
      "midVelocity                      2685 non-null float64\n",
      "stdVelocity                      2685 non-null float64\n",
      "meanAcceleration                 2685 non-null float64\n",
      "medianAcceleration               2685 non-null float64\n",
      "eightyPercAcceleration           2685 non-null float64\n",
      "twentyPercAcceleration           2685 non-null float64\n",
      "medianFirstFiveAcceleration      2685 non-null float64\n",
      "maxAcceleration                  2685 non-null float64\n",
      "midAcceleration                  2685 non-null float64\n",
      "stdAcceleration                  2685 non-null float64\n",
      "dtypes: float64(48), int64(2)\n",
      "memory usage: 1.0 MB\n"
     ]
    }
   ],
   "source": [
    "df.shape\n",
    "df.describe()\n",
    "df.info()"
   ]
  },
  {
   "cell_type": "code",
   "execution_count": 82,
   "metadata": {},
   "outputs": [
    {
     "name": "stdout",
     "output_type": "stream",
     "text": [
      "(2053, 49) (2053,)\n"
     ]
    }
   ],
   "source": [
    "data = df[DATA_FIELDS]\n",
    "y = df[LABEL_FIELDS]\n",
    "x_train, x_test, y_train, y_test = train_test_split(\n",
    "            data,\n",
    "            y,\n",
    "            test_size=0.2,\n",
    "            shuffle=True,\n",
    "            random_state=255)\n",
    "print(data.shape, y.shape)"
   ]
  },
  {
   "cell_type": "code",
   "execution_count": 83,
   "metadata": {},
   "outputs": [
    {
     "data": {
      "text/plain": [
       "[<matplotlib.lines.Line2D at 0x2dce95cdc88>]"
      ]
     },
     "execution_count": 83,
     "metadata": {},
     "output_type": "execute_result"
    },
    {
     "data": {
      "image/png": "[encoded data removed]",
      "text/plain": [
       "<Figure size 432x288 with 1 Axes>"
      ]
     },
     "metadata": {
      "needs_background": "light"
     },
     "output_type": "display_data"
    }
   ],
   "source": [
    "sse_ = []\n",
    "for k in range(2,7):\n",
    "    kmeans = KMeans(n_clusters=k, max_iter=50).fit(x_train)\n",
    "    sse_.append([k, silhouette_score(x_train, kmeans.labels_)])\n",
    "\n",
    "plt.plot(pd.DataFrame(sse_)[0], pd.DataFrame(sse_)[1])"
   ]
  },
  {
   "cell_type": "code",
   "execution_count": 84,
   "metadata": {},
   "outputs": [
    {
     "name": "stdout",
     "output_type": "stream",
     "text": [
      "elements in y_test 1  :  225\n",
      "elements in y_test 12  :  79\n",
      "elements in y_test 25  :  45\n",
      "elements in y_test 31  :  62\n",
      "elements in cluster 0  :  365\n",
      "elements in cluster 1  :  6\n",
      "elements in cluster 2  :  3\n",
      "elements in cluster 3  :  37\n"
     ]
    }
   ],
   "source": [
    "K = 4\n",
    "kmeans = KMeans(n_clusters=K, max_iter=50).fit(x_train)\n",
    "results = kmeans.predict(x_test)\n",
    "i = 0\n",
    "correct = 1\n",
    "false = 1\n",
    "# for result in results:\n",
    "#     print(y_test.values[i], result)\n",
    "#     if y_test.values[i] == result:\n",
    "#         correct += 1\n",
    "#     else:\n",
    "#         false += 1\n",
    "#     i += 1\n",
    "\n",
    "# print(\"result\", correct/(correct+false))\n",
    "# for cluster in range(K):\n",
    "#     print(\"elements in cluster\", cluster, \" : \", list(results).count(cluster))\n",
    "unique_elements, counts_elements = np.unique(y_test, return_counts=True)\n",
    "for elem, count in zip(unique_elements, counts_elements):\n",
    "    print(\"elements in y_test\", elem, \" : \", count)\n",
    "\n",
    "unique_elements, counts_elements = np.unique(results, return_counts=True)\n",
    "for elem, count in zip(unique_elements, counts_elements):\n",
    "    print(\"elements in cluster\", elem, \" : \", count)\n"
   ]
  },
  {
   "cell_type": "code",
   "execution_count": 77,
   "metadata": {},
   "outputs": [
    {
     "data": {
      "text/plain": [
       "(array([0, 1, 2, 3]), array([496,  19,  21,   1], dtype=int64))"
      ]
     },
     "execution_count": 77,
     "metadata": {},
     "output_type": "execute_result"
    }
   ],
   "source": [
    "__"
   ]
  },
  {
   "cell_type": "code",
   "execution_count": null,
   "metadata": {},
   "outputs": [],
   "source": []
  }
 ],
 "metadata": {
  "kernelspec": {
   "display_name": "Python 3",
   "language": "python",
   "name": "python3"
  },
  "language_info": {
   "codemirror_mode": {
    "name": "ipython",
    "version": 3
   },
   "file_extension": ".py",
   "mimetype": "text/x-python",
   "name": "python",
   "nbconvert_exporter": "python",
   "pygments_lexer": "ipython3",
   "version": "3.7.3"
  }
 },
 "nbformat": 4,
 "nbformat_minor": 2
}
